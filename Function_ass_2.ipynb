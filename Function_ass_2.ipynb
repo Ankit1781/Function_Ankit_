{
 "cells": [
  {
   "cell_type": "markdown",
   "id": "2c248710-0125-4d06-90a1-82d65e39649a",
   "metadata": {},
   "source": [
    "Q1. Create a python program to sort the given list of tuples based on integer value using a\n",
    "lambda function.\n",
    "[('Sachin Tendulkar', 34357), ('Ricky Ponting', 27483), ('Jack Kallis', 25534), ('Virat Kohli', 24936)]"
   ]
  },
  {
   "cell_type": "code",
   "execution_count": 20,
   "id": "f863229a-10ba-420e-96d8-e584f73311f3",
   "metadata": {},
   "outputs": [
    {
     "name": "stdout",
     "output_type": "stream",
     "text": [
      "Sorted list: [('Virat Kohli', 24936), ('Jack Kallis', 25534), ('Ricky Ponting', 27483), ('Sachin Tendulkar', 34357)]\n"
     ]
    }
   ],
   "source": [
    "data = [('Sachin Tendulkar', 34357), ('Ricky Ponting', 27483), ('Jack Kallis', 25534), ('Virat Kohli', 24936)]\n",
    "sorted_data = sorted(data, key=lambda x: x[1])\n",
    "print(\"Sorted list:\", sorted_data)"
   ]
  },
  {
   "cell_type": "markdown",
   "id": "cdb5b5d3-d82a-401d-b8b2-e3ce105bf366",
   "metadata": {},
   "source": [
    "Q2. Write a Python Program to find the squares of all the numbers in the given list of integers using\n",
    "lambda and map functions.\n",
    "[1, 2, 3, 4, 5, 6, 7, 8, 9, 10]"
   ]
  },
  {
   "cell_type": "code",
   "execution_count": 21,
   "id": "a041538d-d829-4f6b-a3c1-a3b774cdf6ba",
   "metadata": {},
   "outputs": [
    {
     "name": "stdout",
     "output_type": "stream",
     "text": [
      "[1, 4, 9, 16, 25, 36, 49, 64, 81, 100]\n"
     ]
    }
   ],
   "source": [
    "l = [1, 2, 3, 4, 5, 6, 7, 8, 9, 10] \n",
    "a = list(map(lambda x: x**2, l))\n",
    "print(a)"
   ]
  },
  {
   "cell_type": "markdown",
   "id": "60d6d8af-836c-401e-b90c-830809912ec2",
   "metadata": {},
   "source": [
    "Q3. Write a python program to convert the given list of integers into a tuple of strings. Use map and\n",
    "lambda functions\n"
   ]
  },
  {
   "cell_type": "code",
   "execution_count": 23,
   "id": "9f2fd669-7246-4ffc-845b-1c22f5b235b9",
   "metadata": {},
   "outputs": [
    {
     "name": "stdout",
     "output_type": "stream",
     "text": [
      "('1', '2', '3', '4', '5', '6', '7', '8', '9', '10')\n"
     ]
    }
   ],
   "source": [
    "s = [1, 2, 3, 4, 5, 6, 7, 8, 9, 10]\n",
    "a = tuple(map(lambda x: str(x), s))\n",
    "print(a)"
   ]
  },
  {
   "cell_type": "markdown",
   "id": "62035080-36f6-413d-859e-a5b410f6783a",
   "metadata": {},
   "source": [
    "Q4. Write a python program using reduce function to compute the product of a list containing numbers\n",
    "from 1 to 25."
   ]
  },
  {
   "cell_type": "code",
   "execution_count": 24,
   "id": "1d333a41-0951-4ba4-9702-dab4d39220b0",
   "metadata": {},
   "outputs": [],
   "source": [
    "from functools import reduce"
   ]
  },
  {
   "cell_type": "code",
   "execution_count": 26,
   "id": "206ff6f7-dbf7-4593-a629-bb168d53043d",
   "metadata": {},
   "outputs": [
    {
     "name": "stdin",
     "output_type": "stream",
     "text": [
      "Enter the value:  25\n"
     ]
    },
    {
     "name": "stdout",
     "output_type": "stream",
     "text": [
      "[1, 2, 3, 4, 5, 6, 7, 8, 9, 10, 11, 12, 13, 14, 15, 16, 17, 18, 19, 20, 21, 22, 23, 24, 25]\n",
      "15511210043330985984000000\n"
     ]
    }
   ],
   "source": [
    "n = int(input(\"Enter the value: \"))\n",
    "given_list = []\n",
    "for i in range(1,n+1):\n",
    "    given_list.append(i)\n",
    "print(given_list)\n",
    "r = reduce(lambda x,y: x*y, given_list)\n",
    "print(r)"
   ]
  },
  {
   "cell_type": "markdown",
   "id": "8f6a0a79-ccc6-40ca-8a80-4118c41581b7",
   "metadata": {},
   "source": [
    "Q5. Write a python program to filter the numbers in a given list that are divisible by 2 and 3 using the\n",
    "filter function.\n",
    "[2, 3, 6, 9, 27, 60, 90, 120, 55, 46]"
   ]
  },
  {
   "cell_type": "code",
   "execution_count": 29,
   "id": "82ad7666-0bf3-4370-a392-02c9ceab0c5e",
   "metadata": {},
   "outputs": [
    {
     "name": "stdout",
     "output_type": "stream",
     "text": [
      "[6, 60, 90, 120]\n"
     ]
    }
   ],
   "source": [
    "given_list = [2, 3, 6, 9, 27, 60, 90, 120, 55, 46]\n",
    "req_list = list(filter(lambda x: x%2==0 and x%3==0, given_list))\n",
    "print(req_list)"
   ]
  },
  {
   "cell_type": "markdown",
   "id": "4e42add3-b505-4d31-8731-f65d8b04fecd",
   "metadata": {},
   "source": [
    "Q6. Write a python program to find palindromes in the given list of strings using lambda and filter\n",
    "function.\n",
    "['python', 'php', 'aba', 'radar', 'level']"
   ]
  },
  {
   "cell_type": "code",
   "execution_count": null,
   "id": "3bcf793e-459d-40a7-8f71-e35f769da3eb",
   "metadata": {},
   "outputs": [],
   "source": [
    "given_list = ['python', 'php', 'aba', 'radar', 'level']\n",
    "req_list = list(filter(l))"
   ]
  }
 ],
 "metadata": {
  "kernelspec": {
   "display_name": "Python 3 (ipykernel)",
   "language": "python",
   "name": "python3"
  },
  "language_info": {
   "codemirror_mode": {
    "name": "ipython",
    "version": 3
   },
   "file_extension": ".py",
   "mimetype": "text/x-python",
   "name": "python",
   "nbconvert_exporter": "python",
   "pygments_lexer": "ipython3",
   "version": "3.10.8"
  }
 },
 "nbformat": 4,
 "nbformat_minor": 5
}
