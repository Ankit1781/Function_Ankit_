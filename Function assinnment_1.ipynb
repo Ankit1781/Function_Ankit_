{
 "cells": [
  {
   "cell_type": "markdown",
   "id": "806eaa2e-c0cc-44d1-8fdb-9bb5e65f8da9",
   "metadata": {},
   "source": [
    "Q1. Which keyword is used to create a function? Create a function to return a list of odd numbers in the\n",
    "range of 1 to 25.\n"
   ]
  },
  {
   "cell_type": "code",
   "execution_count": 2,
   "id": "2a78d02b-533b-4154-8fd5-0d7590da8ad8",
   "metadata": {},
   "outputs": [
    {
     "name": "stdout",
     "output_type": "stream",
     "text": [
      "[1, 3, 5, 7, 9, 11, 13, 15, 17, 19, 21, 23]\n"
     ]
    }
   ],
   "source": [
    "# def keyword is used to creat a function.\n",
    "def odd_num(m,n):\n",
    "    a = []\n",
    "    for i in range(m,n):\n",
    "        if i%2 != 0:\n",
    "            a.append(i)\n",
    "    return a\n",
    "\n",
    "res = odd_num(1,25)\n",
    "print(res)"
   ]
  },
  {
   "cell_type": "markdown",
   "id": "b738d303-8911-4ff2-b296-03128e0e4531",
   "metadata": {},
   "source": [
    "Q2. Why *args and **kwargs is used in some functions? Create a function each for *args and **kwargs\n",
    "to demonstrate their use."
   ]
  },
  {
   "cell_type": "code",
   "execution_count": 5,
   "id": "d606321a-1e2c-4189-a5b1-3aa7cbc374ce",
   "metadata": {},
   "outputs": [
    {
     "name": "stdout",
     "output_type": "stream",
     "text": [
      "Sita\n",
      "Radha\n",
      "Gita\n",
      "Ram\n"
     ]
    }
   ],
   "source": [
    "# *args in function definitions in Python is used to pass a variable number of arguments to a function.\n",
    "def name(*args):\n",
    "    for i in args:\n",
    "        print(i)\n",
    "\n",
    "name(\"Sita\", \"Radha\", \"Gita\", \"Ram\")"
   ]
  },
  {
   "cell_type": "code",
   "execution_count": 14,
   "id": "c9e2d43d-7682-4d40-a75c-d69fd151ebe1",
   "metadata": {},
   "outputs": [
    {
     "name": "stdout",
     "output_type": "stream",
     "text": [
      "Ankit : 19\n",
      "Anand : 20\n",
      "Narendea : 74\n"
     ]
    }
   ],
   "source": [
    "# **kwargs in function definitions in Python is used to pass a keyworded, variable-length argument list.\n",
    "def name_age(**kwargs):\n",
    "    for k, v in kwargs.items():\n",
    "        print(\"%s : %s\" %(k, v))\n",
    "        \n",
    "name_age(Ankit = 19, Anand = 20, Narendea = 74)"
   ]
  },
  {
   "cell_type": "markdown",
   "id": "50b5a6c6-1a91-4e0c-966e-03b5d41a1fc5",
   "metadata": {},
   "source": [
    "Q3. What is an iterator in python? Name the method used to initialise the iterator object and the method\n",
    "used for iteration. Use these methods to print the first five elements of the given list [2, 4, 6, 8, 10, 12, 14,16, 18, 20]."
   ]
  },
  {
   "cell_type": "code",
   "execution_count": 15,
   "id": "fd306c90-b1e1-4bac-bce3-8797a0edb17a",
   "metadata": {},
   "outputs": [
    {
     "data": {
      "text/plain": [
       "2"
      ]
     },
     "execution_count": 15,
     "metadata": {},
     "output_type": "execute_result"
    }
   ],
   "source": [
    "# an iterator is an object that allows you to iterate over collections of data, such as lists, tuples, dictionaries, and sets.\n",
    "# Iter() method is used to initialize the iterator object.\n",
    "a = [2, 4, 6, 8, 10, 12, 14, 16, 18, 20]\n",
    "a1 = iter(a)\n",
    "next(a1)"
   ]
  },
  {
   "cell_type": "code",
   "execution_count": 16,
   "id": "c44ebd07-e4d6-4158-a27b-a586f04a8b63",
   "metadata": {},
   "outputs": [
    {
     "data": {
      "text/plain": [
       "4"
      ]
     },
     "execution_count": 16,
     "metadata": {},
     "output_type": "execute_result"
    }
   ],
   "source": [
    "next(a1)"
   ]
  },
  {
   "cell_type": "code",
   "execution_count": 17,
   "id": "4cbcbbb0-1fdd-4885-90c1-ad249cd5a0d0",
   "metadata": {},
   "outputs": [
    {
     "data": {
      "text/plain": [
       "6"
      ]
     },
     "execution_count": 17,
     "metadata": {},
     "output_type": "execute_result"
    }
   ],
   "source": [
    "next(a1)"
   ]
  },
  {
   "cell_type": "code",
   "execution_count": 18,
   "id": "8fc10828-39a4-4aee-8772-4dc0af0c5c63",
   "metadata": {},
   "outputs": [
    {
     "data": {
      "text/plain": [
       "8"
      ]
     },
     "execution_count": 18,
     "metadata": {},
     "output_type": "execute_result"
    }
   ],
   "source": [
    "next(a1)"
   ]
  },
  {
   "cell_type": "code",
   "execution_count": 19,
   "id": "c009321f-c3d7-43e5-84c7-c3be384689ee",
   "metadata": {},
   "outputs": [
    {
     "data": {
      "text/plain": [
       "10"
      ]
     },
     "execution_count": 19,
     "metadata": {},
     "output_type": "execute_result"
    }
   ],
   "source": [
    "next(a1)"
   ]
  },
  {
   "cell_type": "code",
   "execution_count": null,
   "id": "394146ff-3983-46e1-b189-ec6fd81c53be",
   "metadata": {},
   "outputs": [],
   "source": []
  },
  {
   "cell_type": "markdown",
   "id": "86a61313-93be-4fee-9ae7-3d04c1dd7477",
   "metadata": {},
   "source": [
    "Q4. What is a generator function in python? Why yield keyword is used? Give an example of a generator\n",
    "function."
   ]
  },
  {
   "cell_type": "code",
   "execution_count": 22,
   "id": "0dbe3e87-29ed-4f52-964a-b2ac767927d2",
   "metadata": {},
   "outputs": [],
   "source": [
    "# A type of function that is memory efficient and can be used like an iterator object.\n",
    "# Generators provide a space-efficient method for such data processing.\n",
    "#yield is used in generator function\n",
    "# Generator function is used to optimise the entire memory.\n",
    "# the yield statement only pauses the execution of the function.\n",
    "\n"
   ]
  },
  {
   "cell_type": "code",
   "execution_count": 27,
   "id": "16b2a0ca-6a27-44b4-8dd9-59f6217a2f7b",
   "metadata": {},
   "outputs": [
    {
     "name": "stdout",
     "output_type": "stream",
     "text": [
      "2\n",
      "3\n",
      "5\n",
      "7\n",
      "11\n",
      "13\n",
      "17\n",
      "19\n",
      "23\n",
      "29\n"
     ]
    }
   ],
   "source": [
    "def prime_numbers():\n",
    "    yield 2  \n",
    "    primes = [2]  \n",
    "\n",
    "    number = 3\n",
    "\n",
    "    while True:\n",
    "        is_prime = True\n",
    "\n",
    "        for prime in primes:\n",
    "            if number % prime == 0:\n",
    "                is_prime = False\n",
    "                break\n",
    "\n",
    "        if is_prime:\n",
    "            primes.append(number)\n",
    "            yield number\n",
    "\n",
    "        number += 2  \n",
    "\n",
    "primes_generator = prime_numbers()\n",
    "\n",
    "for _ in range(10):\n",
    "    print(next(primes_generator))"
   ]
  },
  {
   "cell_type": "markdown",
   "id": "7a705a73-62e9-4664-9db3-a27f877ac9e8",
   "metadata": {},
   "source": [
    "Q5. Create a generator function for prime numbers less than 1000. Use the next() method to print the\n",
    "first 20 prime numbers."
   ]
  },
  {
   "cell_type": "code",
   "execution_count": 28,
   "id": "8d073bc7-4f98-42ca-b07c-ca6508b51b10",
   "metadata": {},
   "outputs": [
    {
     "name": "stdout",
     "output_type": "stream",
     "text": [
      "2\n",
      "3\n",
      "5\n",
      "7\n",
      "11\n",
      "13\n",
      "17\n",
      "19\n",
      "23\n",
      "29\n",
      "31\n",
      "37\n",
      "41\n",
      "43\n",
      "47\n",
      "53\n",
      "59\n",
      "61\n",
      "67\n",
      "71\n"
     ]
    }
   ],
   "source": [
    "def prime_numbers():\n",
    "    yield 2  \n",
    "    primes = [2]  \n",
    "\n",
    "    number = 3\n",
    "\n",
    "    while number<1000:\n",
    "        is_prime = True\n",
    "\n",
    "        for prime in primes:\n",
    "            if number % prime == 0:\n",
    "                is_prime = False\n",
    "                break\n",
    "\n",
    "        if is_prime:\n",
    "            primes.append(number)\n",
    "            yield number\n",
    "\n",
    "        number += 2  \n",
    "\n",
    "primes_generator = prime_numbers()\n",
    "\n",
    "for _ in range(20):\n",
    "    print(next(primes_generator))"
   ]
  },
  {
   "cell_type": "markdown",
   "id": "70a6c494-b636-4a64-9add-3cf9cbbfb0cd",
   "metadata": {},
   "source": [
    "Q6. Write a python program to print the first 10 Fibonacci numbers using a while loop."
   ]
  },
  {
   "cell_type": "code",
   "execution_count": 35,
   "id": "1239978e-d156-4987-846b-a2b3cc9df147",
   "metadata": {},
   "outputs": [
    {
     "name": "stdout",
     "output_type": "stream",
     "text": [
      "0\n",
      "1\n",
      "1\n",
      "2\n",
      "3\n",
      "5\n",
      "8\n",
      "13\n",
      "21\n",
      "34\n"
     ]
    }
   ],
   "source": [
    "def fabonacci():\n",
    "    a,b = 0,1\n",
    "    while True:\n",
    "        yield a\n",
    "        a,b = b,a+b\n",
    "        \n",
    "fab = fabonacci()\n",
    "for i in range(10):\n",
    "    print(next(fab))"
   ]
  },
  {
   "cell_type": "markdown",
   "id": "9b650695-a51f-4cfc-8b86-25e5147829af",
   "metadata": {},
   "source": [
    "Q7. Write a List Comprehension to iterate through the given string: ‘pwskills’.\n",
    "Expected output: ['p', 'w', 's', 'k', 'i', 'l', 'l', 's']"
   ]
  },
  {
   "cell_type": "code",
   "execution_count": 37,
   "id": "6485b6a1-30f3-4e61-8209-5f3f0ca784d9",
   "metadata": {},
   "outputs": [
    {
     "name": "stdout",
     "output_type": "stream",
     "text": [
      "['p', 'w', 's', 'k', 'i', 'l', 'l', 's']\n"
     ]
    }
   ],
   "source": [
    "s = \"pwskills\"\n",
    "a = iter(s)\n",
    "print(list(a))"
   ]
  },
  {
   "cell_type": "markdown",
   "id": "67e6194c-40e7-442d-9698-bbb2ea35b680",
   "metadata": {},
   "source": [
    "Q8. Write a python program to check whether a given number is Palindrome or not using a while loop."
   ]
  },
  {
   "cell_type": "code",
   "execution_count": 10,
   "id": "2b8fa91e-6dfa-4134-864d-8dc2bdaf1e36",
   "metadata": {},
   "outputs": [
    {
     "name": "stdin",
     "output_type": "stream",
     "text": [
      "Enter a number:  1111222\n"
     ]
    },
    {
     "name": "stdout",
     "output_type": "stream",
     "text": [
      "1111222 is not a palindrome\n"
     ]
    }
   ],
   "source": [
    "def is_palindrome(number):\n",
    "    original_number = number\n",
    "    reversed_number = 0\n",
    "    while number > 0:\n",
    "        remainder = number % 10\n",
    "        reversed_number = (reversed_number * 10) + remainder\n",
    "        number = number // 10\n",
    "\n",
    "    if original_number == reversed_number:\n",
    "        return True\n",
    "    else:\n",
    "        return False\n",
    "\n",
    "num = int(input(\"Enter a number: \"))\n",
    "if is_palindrome(num):\n",
    "    print(num, \"is a palindrome\")\n",
    "else:\n",
    "    print(num, \"is not a palindrome\")\n"
   ]
  },
  {
   "cell_type": "markdown",
   "id": "88edb6a3-6062-446d-a13b-800afc0fccbb",
   "metadata": {},
   "source": [
    "Q9. Write a code to print odd numbers from 1 to 100 using list comprehension."
   ]
  },
  {
   "cell_type": "code",
   "execution_count": 39,
   "id": "a3507705-922c-4748-b788-426e25c86e85",
   "metadata": {},
   "outputs": [],
   "source": [
    "def odd_num():\n",
    "    list_comp = []\n",
    "    for i in range (100):\n",
    "        list_comp.append(i)\n",
    "     \n",
    "    a = []\n",
    "    for j in list_comp:\n",
    "        if j%2 != 0:\n",
    "            a.append(j)\n",
    "    yield a"
   ]
  },
  {
   "cell_type": "code",
   "execution_count": 41,
   "id": "f7134836-14f1-403e-b95c-591b8ee5dd48",
   "metadata": {},
   "outputs": [
    {
     "data": {
      "text/plain": [
       "[[1,\n",
       "  3,\n",
       "  5,\n",
       "  7,\n",
       "  9,\n",
       "  11,\n",
       "  13,\n",
       "  15,\n",
       "  17,\n",
       "  19,\n",
       "  21,\n",
       "  23,\n",
       "  25,\n",
       "  27,\n",
       "  29,\n",
       "  31,\n",
       "  33,\n",
       "  35,\n",
       "  37,\n",
       "  39,\n",
       "  41,\n",
       "  43,\n",
       "  45,\n",
       "  47,\n",
       "  49,\n",
       "  51,\n",
       "  53,\n",
       "  55,\n",
       "  57,\n",
       "  59,\n",
       "  61,\n",
       "  63,\n",
       "  65,\n",
       "  67,\n",
       "  69,\n",
       "  71,\n",
       "  73,\n",
       "  75,\n",
       "  77,\n",
       "  79,\n",
       "  81,\n",
       "  83,\n",
       "  85,\n",
       "  87,\n",
       "  89,\n",
       "  91,\n",
       "  93,\n",
       "  95,\n",
       "  97,\n",
       "  99]]"
      ]
     },
     "execution_count": 41,
     "metadata": {},
     "output_type": "execute_result"
    }
   ],
   "source": [
    "list(odd_num())"
   ]
  },
  {
   "cell_type": "code",
   "execution_count": 42,
   "id": "3b56093d-c60e-43ec-9c9e-43ec45861a33",
   "metadata": {},
   "outputs": [
    {
     "name": "stdout",
     "output_type": "stream",
     "text": [
      "[1, 3, 5, 7, 9, 11, 13, 15, 17, 19, 21, 23, 25, 27, 29, 31, 33, 35, 37, 39, 41, 43, 45, 47, 49, 51, 53, 55, 57, 59, 61, 63, 65, 67, 69, 71, 73, 75, 77, 79, 81, 83, 85, 87, 89, 91, 93, 95, 97, 99]\n"
     ]
    }
   ],
   "source": [
    "odd_numbers = [num for num in range(1, 101) if num % 2 != 0]\n",
    "\n",
    "print(odd_numbers)"
   ]
  },
  {
   "cell_type": "code",
   "execution_count": null,
   "id": "0fb5d620-138e-4a3d-83e8-69b414b5b69e",
   "metadata": {},
   "outputs": [],
   "source": []
  }
 ],
 "metadata": {
  "kernelspec": {
   "display_name": "Python 3 (ipykernel)",
   "language": "python",
   "name": "python3"
  },
  "language_info": {
   "codemirror_mode": {
    "name": "ipython",
    "version": 3
   },
   "file_extension": ".py",
   "mimetype": "text/x-python",
   "name": "python",
   "nbconvert_exporter": "python",
   "pygments_lexer": "ipython3",
   "version": "3.10.8"
  }
 },
 "nbformat": 4,
 "nbformat_minor": 5
}
